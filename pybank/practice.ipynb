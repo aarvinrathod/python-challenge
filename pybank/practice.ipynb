{
 "metadata": {
  "language_info": {
   "codemirror_mode": {
    "name": "ipython",
    "version": 3
   },
   "file_extension": ".py",
   "mimetype": "text/x-python",
   "name": "python",
   "nbconvert_exporter": "python",
   "pygments_lexer": "ipython3",
   "version": "3.8.5"
  },
  "orig_nbformat": 2,
  "kernelspec": {
   "name": "python385jvsc74a57bd041cdb411a0966a8497ad7b6e9a94f2e3d26e7309673ef6d93eef90efa5ebb6c4",
   "display_name": "Python 3.8.5 64-bit ('base': conda)"
  }
 },
 "nbformat": 4,
 "nbformat_minor": 2,
 "cells": [
  {
   "cell_type": "code",
   "execution_count": 33,
   "metadata": {},
   "outputs": [],
   "source": [
    "import os"
   ]
  },
  {
   "cell_type": "code",
   "execution_count": 41,
   "metadata": {},
   "outputs": [],
   "source": [
    "import csv"
   ]
  },
  {
   "cell_type": "code",
   "execution_count": 42,
   "metadata": {},
   "outputs": [],
   "source": [
    "csvpath = os.path.join(os.getcwd(),'resources','budget_data.csv')"
   ]
  },
  {
   "cell_type": "code",
   "execution_count": 43,
   "metadata": {},
   "outputs": [
    {
     "output_type": "execute_result",
     "data": {
      "text/plain": [
       "'c:\\\\Users\\\\aarvi\\\\Desktop\\\\python-challenge\\\\pybank\\\\resources\\\\budget_data.csv'"
      ]
     },
     "metadata": {},
     "execution_count": 43
    }
   ],
   "source": [
    "csvpath"
   ]
  },
  {
   "cell_type": "code",
   "execution_count": 64,
   "metadata": {},
   "outputs": [
    {
     "output_type": "stream",
     "name": "stdout",
     "text": [
      "Total Months: 86\n"
     ]
    }
   ],
   "source": [
    "with open(csvpath,'r') as csvfile:\n",
    "\n",
    "    #initialize the writer\n",
    "    csvreader = csv.reader(csvfile, delimiter=',')\n",
    "\n",
    "    #print row to confirm\n",
    "    for row in csvreader:\n",
    "        total_months = len(list(csvreader))\n",
    "        print(f'Total Months: {total_months}')"
   ]
  },
  {
   "cell_type": "code",
   "execution_count": null,
   "metadata": {},
   "outputs": [],
   "source": []
  }
 ]
}